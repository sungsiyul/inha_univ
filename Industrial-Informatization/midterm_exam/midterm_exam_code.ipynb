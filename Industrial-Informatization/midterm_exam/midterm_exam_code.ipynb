{
  "cells": [
    {
      "cell_type": "markdown",
      "metadata": {
        "id": "rLvAvbkSzN1-"
      },
      "source": [
        "## 12180626 성시열 산업정보화 002분반 중간고차 대체과제"
      ]
    },
    {
      "cell_type": "markdown",
      "metadata": {
        "id": "lLZ7FsatzRx7"
      },
      "source": [
        "- 파이썬으로 아래의 정렬 알고리즘들을을 구현하고, 10개부터 10만개 데이터를 랜덤으로 생성하여 알고리즘 수행 시간을 비교해보세요.\n",
        "\n",
        "- [10, 100, 1000, 10000, 100000] \n",
        "\n",
        "1. 버블정렬\n",
        "2. 선택정렬\n",
        "3. 합병정렬\n",
        "4. 퀵정렬"
      ]
    },
    {
      "cell_type": "code",
      "execution_count": 1,
      "metadata": {
        "colab": {
          "base_uri": "https://localhost:8080/"
        },
        "id": "PotU2VsyzQVh",
        "outputId": "8ec11850-7e8f-440b-af94-e7205a36adeb"
      },
      "outputs": [
        {
          "output_type": "stream",
          "name": "stdout",
          "text": [
            "[10, 100, 1000, 10000, 100000]\n"
          ]
        }
      ],
      "source": [
        "#그래프 x축에 해당하는 자료\n",
        "test_range = []                          #리스트를 생성\n",
        "for exponent in range(1, 6):             #exponent는 1부터 5까지 반복\n",
        "    test_range.append(10 ** exponent)    #생성한 test_range에 10^1, 10^2, 10^3, 10^4, 10^5를 차례로 붙임\n",
        "print(test_range)"
      ]
    },
    {
      "cell_type": "code",
      "execution_count": 2,
      "metadata": {
        "id": "f-2Q_lSKzTXs"
      },
      "outputs": [],
      "source": [
        "#임의의 값, 정렬되지 않은 값을 리스트에 생성하여 넣어주기\n",
        "import random\n",
        "alist = random.sample(range(0,100000),100000)   #1부터 10000000까지 범위의 수를 랜덤으로 추출하여 총 1000000를 alist에 넣어줌"
      ]
    },
    {
      "cell_type": "code",
      "execution_count": 3,
      "metadata": {
        "colab": {
          "base_uri": "https://localhost:8080/"
        },
        "id": "A_KpYXXezWht",
        "outputId": "941d8dca-6996-4a18-ba78-eda853ca65ff"
      },
      "outputs": [
        {
          "output_type": "execute_result",
          "data": {
            "text/plain": [
              "100000"
            ]
          },
          "metadata": {},
          "execution_count": 3
        }
      ],
      "source": [
        "len(alist)"
      ]
    },
    {
      "cell_type": "code",
      "execution_count": 4,
      "metadata": {
        "id": "j3xDiDDAzXsb"
      },
      "outputs": [],
      "source": [
        "# 1 버블정렬\n",
        "import time\n",
        "def time_calculation1(test_range):\n",
        "    result = []\n",
        "    for i in test_range:\n",
        "        start_time = time.time()\n",
        "        copy_list = alist[:i]\n",
        "        bubble_sort(copy_list)\n",
        "        elapsed_time = time.time() - start_time\n",
        "        result.append(elapsed_time)\n",
        "    return result"
      ]
    },
    {
      "cell_type": "code",
      "execution_count": 5,
      "metadata": {
        "id": "n0CXksMFzZwn"
      },
      "outputs": [],
      "source": [
        "def bubble_sort(arr):\n",
        " for i in range(len(arr)):\n",
        "    for j in range(len(arr)-1):\n",
        "      if arr[j]>arr[j+1]:\n",
        "         temp = arr[j+1]\n",
        "         arr[j+1]=arr[j]\n",
        "         arr[j]=temp\n",
        "      else:\n",
        "       pass\n",
        " return arr"
      ]
    },
    {
      "cell_type": "code",
      "execution_count": 6,
      "metadata": {
        "id": "z_SK30lDzbWJ"
      },
      "outputs": [],
      "source": [
        "output_bubble = time_calculation1(test_range)"
      ]
    },
    {
      "cell_type": "code",
      "execution_count": 7,
      "metadata": {
        "colab": {
          "base_uri": "https://localhost:8080/"
        },
        "id": "O0bmID5NzcnK",
        "outputId": "85127627-d0d7-4788-941e-abc18ed4f636"
      },
      "outputs": [
        {
          "output_type": "execute_result",
          "data": {
            "text/plain": [
              "[3.552436828613281e-05,\n",
              " 0.008541584014892578,\n",
              " 0.504798173904419,\n",
              " 21.01521611213684,\n",
              " 1762.1225230693817]"
            ]
          },
          "metadata": {},
          "execution_count": 7
        }
      ],
      "source": [
        "output_bubble"
      ]
    },
    {
      "cell_type": "code",
      "execution_count": 8,
      "metadata": {
        "id": "uVFSrTDKzeXM"
      },
      "outputs": [],
      "source": [
        "#2 선택정렬\n",
        "def time_calculation2(test_range):\n",
        "    result = []\n",
        "    for i in test_range:\n",
        "        start_time = time.time()\n",
        "        copy_list = alist[:i]\n",
        "        selection_sort(copy_list)\n",
        "        elapsed_time = time.time() - start_time\n",
        "        result.append(elapsed_time)\n",
        "    return result"
      ]
    },
    {
      "cell_type": "code",
      "execution_count": 9,
      "metadata": {
        "id": "57wWM9YnzeVD"
      },
      "outputs": [],
      "source": [
        "def find_smallest(arr):\n",
        "    smallest = arr[0] \n",
        "    smallest_index = 0 \n",
        "    for i in range(1,len(arr)):\n",
        "        if arr[i] < smallest:\n",
        "            smallest = arr[i]\n",
        "            smallest_index = i\n",
        "    return smallest_index"
      ]
    },
    {
      "cell_type": "code",
      "execution_count": 10,
      "metadata": {
        "id": "cl0vbEpQzeSw"
      },
      "outputs": [],
      "source": [
        "def selection_sort(arr): \n",
        "    newArr = []\n",
        "    for i in range(len(arr)):\n",
        "        smallest = find_smallest(arr)  \n",
        "        newArr.append(arr.pop(smallest))\n",
        "    return newArr"
      ]
    },
    {
      "cell_type": "code",
      "execution_count": 11,
      "metadata": {
        "id": "4qohSg7yzeQK"
      },
      "outputs": [],
      "source": [
        "output_selection = time_calculation2(test_range)"
      ]
    },
    {
      "cell_type": "code",
      "execution_count": 12,
      "metadata": {
        "colab": {
          "base_uri": "https://localhost:8080/"
        },
        "id": "5dwGIoZQzeN2",
        "outputId": "ed59dd74-c389-44ef-94ad-49e9829113ac"
      },
      "outputs": [
        {
          "output_type": "execute_result",
          "data": {
            "text/plain": [
              "[2.8133392333984375e-05,\n",
              " 0.0009121894836425781,\n",
              " 0.03536868095397949,\n",
              " 3.7280654907226562,\n",
              " 456.4719979763031]"
            ]
          },
          "metadata": {},
          "execution_count": 12
        }
      ],
      "source": [
        "output_selection"
      ]
    },
    {
      "cell_type": "code",
      "execution_count": 13,
      "metadata": {
        "id": "57qrfB0-zeLQ"
      },
      "outputs": [],
      "source": [
        "#3 합병정렬\n",
        "import time\n",
        "\n",
        "def time_calculation3(test_range):\n",
        "    result = []\n",
        "    for i in test_range:\n",
        "        start_time = time.time()\n",
        "        copy_list = alist[:i]\n",
        "        merge_sort(copy_list)\n",
        "        elapsed_time = time.time() - start_time\n",
        "        result.append(elapsed_time)\n",
        "    return result"
      ]
    },
    {
      "cell_type": "code",
      "execution_count": 14,
      "metadata": {
        "id": "0MUzh9gqzeI5"
      },
      "outputs": [],
      "source": [
        "def merge_sort(list):\n",
        "    if len(list) <= 1:\n",
        "        return list\n",
        "\n",
        "    mid = len(list) // 2\n",
        "    leftList = list[:mid]\n",
        "    rightList = list[mid:]\n",
        "    \n",
        "    leftList = merge_sort(leftList)\n",
        "    rightList = merge_sort(rightList)\n",
        "    return merge(leftList, rightList)"
      ]
    },
    {
      "cell_type": "code",
      "execution_count": 15,
      "metadata": {
        "id": "lB9cuFpmzeGg"
      },
      "outputs": [],
      "source": [
        "def merge(left, right):\n",
        "    result = []\n",
        "    while len(left) > 0 or len(right) > 0:\n",
        "        if len(left) > 0 and len(right) > 0:\n",
        "            if left[0] <= right[0]:\n",
        "                result.append(left[0])\n",
        "                left = left[1:]\n",
        "            else:\n",
        "                result.append(right[0])\n",
        "                right = right[1:]\n",
        "        elif len(left) > 0:\n",
        "            result.append(left[0])\n",
        "            left = left[1:]\n",
        "        elif len(right) > 0:\n",
        "            result.append(right[0])\n",
        "            right = right[1:]\n",
        "    return result"
      ]
    },
    {
      "cell_type": "code",
      "execution_count": 16,
      "metadata": {
        "id": "Ae3hRFPzzeDw"
      },
      "outputs": [],
      "source": [
        "output_merge = time_calculation3(test_range)"
      ]
    },
    {
      "cell_type": "code",
      "execution_count": 17,
      "metadata": {
        "colab": {
          "base_uri": "https://localhost:8080/"
        },
        "id": "plM4Hlh2zd6g",
        "outputId": "f9ae8415-1dfb-4d37-87c5-2e76f9a824cd"
      },
      "outputs": [
        {
          "output_type": "execute_result",
          "data": {
            "text/plain": [
              "[6.151199340820312e-05,\n",
              " 0.0012385845184326172,\n",
              " 0.010023355484008789,\n",
              " 0.36121201515197754,\n",
              " 39.017786741256714]"
            ]
          },
          "metadata": {},
          "execution_count": 17
        }
      ],
      "source": [
        "output_merge"
      ]
    },
    {
      "cell_type": "code",
      "execution_count": 18,
      "metadata": {
        "id": "5YKdN7vJzlwV"
      },
      "outputs": [],
      "source": [
        "# 4 퀵정렬\n",
        "def time_calculation4(test_range):\n",
        "    result = []\n",
        "    for i in test_range:\n",
        "        start_time = time.time()\n",
        "        copy_list = alist[:i]\n",
        "        quicksort(copy_list)\n",
        "        elapsed_time = time.time() - start_time\n",
        "        result.append(elapsed_time)\n",
        "    return result"
      ]
    },
    {
      "cell_type": "code",
      "execution_count": 19,
      "metadata": {
        "id": "1HXJ2XxnzluU"
      },
      "outputs": [],
      "source": [
        "def quicksort(array):\n",
        "    if len(array) < 2:\n",
        "        return array        \n",
        "    \n",
        "    else: \n",
        "        pivot = array[0]     \n",
        "        \n",
        "        less = []\n",
        "        greater = [] \n",
        "        for i in array[1:]:    \n",
        "            if i <= pivot:      \n",
        "                less.append(i)\n",
        "            else:               \n",
        "                greater.append(i)\n",
        "                \n",
        "        return quicksort(less) + [pivot] + quicksort(greater)"
      ]
    },
    {
      "cell_type": "code",
      "execution_count": 20,
      "metadata": {
        "id": "ruXJVjHMzlrZ"
      },
      "outputs": [],
      "source": [
        "output_quick = time_calculation4(test_range)"
      ]
    },
    {
      "cell_type": "code",
      "execution_count": 21,
      "metadata": {
        "colab": {
          "base_uri": "https://localhost:8080/"
        },
        "id": "BPVZO6Bwzlpe",
        "outputId": "25348f83-5541-40ef-ac6f-5681f7aef501"
      },
      "outputs": [
        {
          "output_type": "execute_result",
          "data": {
            "text/plain": [
              "[2.4557113647460938e-05,\n",
              " 0.00026416778564453125,\n",
              " 0.004910707473754883,\n",
              " 0.03719735145568848,\n",
              " 0.3243069648742676]"
            ]
          },
          "metadata": {},
          "execution_count": 21
        }
      ],
      "source": [
        "output_quick"
      ]
    },
    {
      "cell_type": "markdown",
      "metadata": {
        "id": "9L-tDUOYzsJi"
      },
      "source": [
        "시각화"
      ]
    },
    {
      "cell_type": "code",
      "execution_count": 22,
      "metadata": {
        "id": "wgEd8pMozllK"
      },
      "outputs": [],
      "source": [
        "# libraries\n",
        "import matplotlib.pyplot as plt\n",
        "import numpy as np\n",
        "import pandas as pd"
      ]
    },
    {
      "cell_type": "code",
      "execution_count": 23,
      "metadata": {
        "id": "3Q1aoaGXzljH"
      },
      "outputs": [],
      "source": [
        "#data\n",
        "df=pd.DataFrame({'x': test_range, 'bubbleSort': output_bubble, 'selectionSort': output_selection, 'mergeSort': output_merge, 'quickSort': output_quick})"
      ]
    },
    {
      "cell_type": "code",
      "execution_count": 24,
      "metadata": {
        "colab": {
          "base_uri": "https://localhost:8080/",
          "height": 287
        },
        "id": "3b_tz5e1zlg7",
        "outputId": "e7a0f7e8-46d4-4c4b-eec5-89bf58348203"
      },
      "outputs": [
        {
          "output_type": "execute_result",
          "data": {
            "text/plain": [
              "<matplotlib.legend.Legend at 0x7f146a936a90>"
            ]
          },
          "metadata": {},
          "execution_count": 24
        },
        {
          "output_type": "display_data",
          "data": {
            "text/plain": [
              "<Figure size 432x288 with 1 Axes>"
            ],
            "image/png": "[encoded data removed]"
          },
          "metadata": {
            "needs_background": "light"
          }
        }
      ],
      "source": [
        "# 4가지 정렬시간 비교 그래프\n",
        "plt.xscale('log')\n",
        "plt.yscale('log')\n",
        "\n",
        "plt.plot( 'x', 'bubbleSort', data=df, marker=\"o\", markerfacecolor='red', markersize=10, color='black', linewidth=2)\n",
        "plt.plot( 'x', 'selectionSort', data=df, marker='o', markerfacecolor='green', markersize=10, color='black', linewidth=2)\n",
        "plt.plot( 'x', 'mergeSort', data=df, marker=\"o\", markerfacecolor='white', markersize=10, color='black', linewidth=2)\n",
        "plt.plot( 'x', 'quickSort', data=df, marker=\"s\", markerfacecolor='orange', markersize=10, color='black', linewidth=2)\n",
        "\n",
        "plt.legend()"
      ]
    },
    {
      "cell_type": "code",
      "execution_count": null,
      "metadata": {
        "id": "JaVIyDZ9zy-k"
      },
      "outputs": [],
      "source": [
        ""
      ]
    }
  ],
  "metadata": {
    "colab": {
      "name": "12180626_성시열",
      "provenance": [],
      "collapsed_sections": []
    },
    "kernelspec": {
      "display_name": "Python 3",
      "name": "python3"
    },
    "language_info": {
      "name": "python"
    }
  },
  "nbformat": 4,
  "nbformat_minor": 0
}