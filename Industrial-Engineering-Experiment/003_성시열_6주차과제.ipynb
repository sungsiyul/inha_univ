{
 "cells": [
  {
   "cell_type": "markdown",
   "id": "cb6921c7",
   "metadata": {},
   "source": [
    "# 1"
   ]
  },
  {
   "cell_type": "code",
   "execution_count": 19,
   "id": "afac62c8",
   "metadata": {},
   "outputs": [],
   "source": [
    "class FinalTest(object):\n",
    "    def __init__ (self, math, kor, eng):\n",
    "        self.math = math\n",
    "        self.kor = kor\n",
    "        self.eng = eng\n",
    "    \n",
    "    def math_score(self):\n",
    "        return self.math\n",
    "    \n",
    "    def kor_score(self):\n",
    "        return self.kor\n",
    "    \n",
    "    def eng_score(self):\n",
    "        return self.eng"
   ]
  },
  {
   "cell_type": "code",
   "execution_count": 20,
   "id": "ab1c3427",
   "metadata": {},
   "outputs": [],
   "source": [
    "my_score = FinalTest(90,50,70)"
   ]
  },
  {
   "cell_type": "markdown",
   "id": "f31a25ba",
   "metadata": {},
   "source": [
    "# 2"
   ]
  },
  {
   "cell_type": "code",
   "execution_count": 21,
   "id": "b8c00a59",
   "metadata": {},
   "outputs": [],
   "source": [
    "class FinalTest(object):\n",
    "    def __init__ (self, math, kor, eng):\n",
    "        self.math = math\n",
    "        self.kor = kor\n",
    "        self.eng = eng\n",
    "        self.avg_score = (math + kor + eng) / 3\n",
    "        \n",
    "    def math_score(self):\n",
    "        return self.math\n",
    "    \n",
    "    def kor_score(self):\n",
    "        return self.kor\n",
    "    \n",
    "    def eng_score(self):\n",
    "        return self.eng\n",
    "    \n",
    "    def avg_score(self):\n",
    "        return self.avg_score"
   ]
  },
  {
   "cell_type": "code",
   "execution_count": 22,
   "id": "c6a9d7d3",
   "metadata": {},
   "outputs": [],
   "source": [
    "John = FinalTest(100, 90, 80)\n",
    "Jenny = FinalTest(90, 100, 100)"
   ]
  },
  {
   "cell_type": "code",
   "execution_count": 23,
   "id": "e29ab4ee",
   "metadata": {},
   "outputs": [
    {
     "name": "stdout",
     "output_type": "stream",
     "text": [
      "90.0 96.66666666666667\n"
     ]
    }
   ],
   "source": [
    "John_avg = John.avg_score\n",
    "Jenny_avg = Jenny.avg_score\n",
    "\n",
    "print(John_avg,Jenny_avg)"
   ]
  },
  {
   "cell_type": "markdown",
   "id": "907e1334",
   "metadata": {},
   "source": [
    "# 3"
   ]
  },
  {
   "cell_type": "code",
   "execution_count": 24,
   "id": "95c55f33",
   "metadata": {},
   "outputs": [],
   "source": [
    "class Car(object):\n",
    "    def __init__(self, max_speed, speed, speed_gap):\n",
    "        self.max_speed = max_speed\n",
    "        self.speed = speed\n",
    "        self.speed_gap = speed_gap\n",
    "\n",
    "    def speed_up(self):\n",
    "        if 0 <= self.speed + self.speed_gap <= self.max_speed:\n",
    "            self.speed = self.speed + self.speed_gap\n",
    "        else:\n",
    "            print(f\"speed는 {self.max_speed}을 넘을 수 없습니다.\")\n",
    "\n",
    "    def speed_down(self):\n",
    "        if 0 <= self.speed - self.speed_gap <= self.max_speed:\n",
    "            self.speed = self.speed - self.speed_gap\n",
    "        else:\n",
    "            print(\"speed는 0보다 작을 수 없습니다.\")"
   ]
  },
  {
   "cell_type": "code",
   "execution_count": 25,
   "id": "7aaf6cf4",
   "metadata": {},
   "outputs": [
    {
     "name": "stdout",
     "output_type": "stream",
     "text": [
      "speed는 0보다 작을 수 없습니다.\n"
     ]
    }
   ],
   "source": [
    "car = Car(160,0,20)\n",
    "car.speed_down()"
   ]
  },
  {
   "cell_type": "code",
   "execution_count": 26,
   "id": "578acb46",
   "metadata": {},
   "outputs": [
    {
     "name": "stdout",
     "output_type": "stream",
     "text": [
      "speed는 160을 넘을 수 없습니다.\n"
     ]
    }
   ],
   "source": [
    "for i in range(9):\n",
    "    car.speed_up()"
   ]
  },
  {
   "cell_type": "code",
   "execution_count": 27,
   "id": "65927c89",
   "metadata": {},
   "outputs": [
    {
     "data": {
      "text/plain": [
       "160"
      ]
     },
     "execution_count": 27,
     "metadata": {},
     "output_type": "execute_result"
    }
   ],
   "source": [
    "car.speed"
   ]
  },
  {
   "cell_type": "markdown",
   "id": "501d899b",
   "metadata": {},
   "source": [
    "# 4"
   ]
  },
  {
   "cell_type": "code",
   "execution_count": 28,
   "id": "7fb7735b",
   "metadata": {},
   "outputs": [],
   "source": [
    "class SportCar(Car):\n",
    "    def __init__(self, max_speed, speed, speed_gap):\n",
    "        super().__init__(max_speed, speed, speed_gap)"
   ]
  },
  {
   "cell_type": "code",
   "execution_count": 29,
   "id": "8417ab85",
   "metadata": {},
   "outputs": [
    {
     "name": "stdout",
     "output_type": "stream",
     "text": [
      "speed는 0보다 작을 수 없습니다.\n"
     ]
    }
   ],
   "source": [
    "sportcar = SportCar(200,0,45)\n",
    "sportcar.speed_down()"
   ]
  },
  {
   "cell_type": "code",
   "execution_count": 30,
   "id": "8dadb45a",
   "metadata": {},
   "outputs": [
    {
     "name": "stdout",
     "output_type": "stream",
     "text": [
      "speed는 200을 넘을 수 없습니다.\n"
     ]
    }
   ],
   "source": [
    "for i in range(5):\n",
    "    sportcar.speed_up()"
   ]
  },
  {
   "cell_type": "code",
   "execution_count": 31,
   "id": "f24b9f10",
   "metadata": {},
   "outputs": [],
   "source": [
    "class Truck(Car):\n",
    "    def __init__(self, max_speed, speed, speed_gap):\n",
    "        super().__init__(max_speed, speed, speed_gap)"
   ]
  },
  {
   "cell_type": "code",
   "execution_count": 32,
   "id": "efc1c683",
   "metadata": {},
   "outputs": [
    {
     "name": "stdout",
     "output_type": "stream",
     "text": [
      "speed는 0보다 작을 수 없습니다.\n"
     ]
    }
   ],
   "source": [
    "truck = Truck(100,0,15)\n",
    "truck.speed_down()"
   ]
  },
  {
   "cell_type": "code",
   "execution_count": 33,
   "id": "039a2027",
   "metadata": {},
   "outputs": [
    {
     "name": "stdout",
     "output_type": "stream",
     "text": [
      "speed는 100을 넘을 수 없습니다.\n"
     ]
    }
   ],
   "source": [
    "for i in range(7):\n",
    "    truck.speed_up()"
   ]
  }
 ],
 "metadata": {
  "kernelspec": {
   "display_name": "Python 3 (ipykernel)",
   "language": "python",
   "name": "python3"
  },
  "language_info": {
   "codemirror_mode": {
    "name": "ipython",
    "version": 3
   },
   "file_extension": ".py",
   "mimetype": "text/x-python",
   "name": "python",
   "nbconvert_exporter": "python",
   "pygments_lexer": "ipython3",
   "version": "3.9.7"
  },
  "toc": {
   "base_numbering": 1,
   "nav_menu": {},
   "number_sections": false,
   "sideBar": true,
   "skip_h1_title": false,
   "title_cell": "Table of Contents",
   "title_sidebar": "Contents",
   "toc_cell": false,
   "toc_position": {},
   "toc_section_display": true,
   "toc_window_display": false
  }
 },
 "nbformat": 4,
 "nbformat_minor": 5
}
