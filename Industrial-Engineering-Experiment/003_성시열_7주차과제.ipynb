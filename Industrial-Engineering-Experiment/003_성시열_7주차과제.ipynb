{
 "cells": [
  {
   "cell_type": "code",
   "execution_count": 1,
   "id": "710432bf",
   "metadata": {},
   "outputs": [],
   "source": [
    "import numpy as np"
   ]
  },
  {
   "cell_type": "markdown",
   "id": "2b890684",
   "metadata": {},
   "source": [
    "# 1"
   ]
  },
  {
   "cell_type": "code",
   "execution_count": 2,
   "id": "0fbeedfa",
   "metadata": {},
   "outputs": [
    {
     "data": {
      "text/plain": [
       "array([[1, 0, 2],\n",
       "       [0, 1, 1],\n",
       "       [1, 2, 2]])"
      ]
     },
     "execution_count": 2,
     "metadata": {},
     "output_type": "execute_result"
    }
   ],
   "source": [
    "A = np.array([[1,0,2],\n",
    "              [0,1,1],\n",
    "              [1,2,2]])\n",
    "A"
   ]
  },
  {
   "cell_type": "code",
   "execution_count": 3,
   "id": "1ce95f19",
   "metadata": {},
   "outputs": [
    {
     "data": {
      "text/plain": [
       "array([[1., 0., 0.],\n",
       "       [0., 1., 0.],\n",
       "       [0., 0., 1.]])"
      ]
     },
     "execution_count": 3,
     "metadata": {},
     "output_type": "execute_result"
    }
   ],
   "source": [
    "E = np.identity(3)\n",
    "E"
   ]
  },
  {
   "cell_type": "code",
   "execution_count": 4,
   "id": "1a116ef5",
   "metadata": {},
   "outputs": [],
   "source": [
    "#AB = 2B - A\n",
    "#(A-2E)B = -A\n",
    "\n",
    "# B = (A-2E)^-1 * (-A)\n",
    "A_minus_2_inverse = np.linalg.inv(A - 2*E)\n",
    "minus_A = -A"
   ]
  },
  {
   "cell_type": "code",
   "execution_count": 5,
   "id": "8065525e",
   "metadata": {},
   "outputs": [],
   "source": [
    "B = np.dot(A_minus_2_inverse, minus_A)"
   ]
  },
  {
   "cell_type": "code",
   "execution_count": 6,
   "id": "273818f9",
   "metadata": {},
   "outputs": [
    {
     "name": "stdout",
     "output_type": "stream",
     "text": [
      "[[ 0.  -2.  -1. ]\n",
      " [-0.5  0.  -0.5]\n",
      " [-0.5 -1.  -1.5]]\n"
     ]
    }
   ],
   "source": [
    "print(B)"
   ]
  },
  {
   "cell_type": "markdown",
   "id": "2685c2e1",
   "metadata": {},
   "source": [
    "# 2"
   ]
  },
  {
   "cell_type": "markdown",
   "id": "7c18aeaf",
   "metadata": {},
   "source": [
    "## 2-1"
   ]
  },
  {
   "cell_type": "code",
   "execution_count": 7,
   "id": "4c11f861",
   "metadata": {},
   "outputs": [],
   "source": [
    "matrix_a = np.array([[2,-1,-3],\n",
    "                     [-1,-2,-3],\n",
    "                     [1,1,4],])\n",
    "matrix_a_inverse = np.linalg.inv(matrix_a)\n",
    "matrix_b = np.array([[2],\n",
    "                   [-1],\n",
    "                   [1]])"
   ]
  },
  {
   "cell_type": "code",
   "execution_count": 8,
   "id": "6e065422",
   "metadata": {},
   "outputs": [
    {
     "name": "stdout",
     "output_type": "stream",
     "text": [
      "[[1.]\n",
      " [0.]\n",
      " [0.]]\n"
     ]
    }
   ],
   "source": [
    "x = np.dot(matrix_a_inverse, matrix_b)\n",
    "print(x)"
   ]
  },
  {
   "cell_type": "markdown",
   "id": "00131a7d",
   "metadata": {},
   "source": [
    "## 2-2"
   ]
  },
  {
   "cell_type": "code",
   "execution_count": 9,
   "id": "a491a53f",
   "metadata": {},
   "outputs": [
    {
     "name": "stdout",
     "output_type": "stream",
     "text": [
      "det의 값이 0인 특이행렬은 역행렬이 존재하지 않습니다.\n"
     ]
    }
   ],
   "source": [
    "try:\n",
    "    matrix_c = np.array([[2,-1,-3],\n",
    "                         [-4,2,6],\n",
    "                         [3,1,4],])\n",
    "    matrix_c_inverse = np.linalg.inv(matrix_c)\n",
    "    matrix_d = np.array([[2],\n",
    "                       [-1],\n",
    "                       [1]])\n",
    "    #det(c) = 2(8-6) -(-1)(-16-18) +(-3)(-4-6) = 4 -34 + 30 = 0\n",
    "except:\n",
    "    print(\"det의 값이 0인 특이행렬은 역행렬이 존재하지 않습니다.\")"
   ]
  },
  {
   "cell_type": "markdown",
   "id": "0a1ea2ac",
   "metadata": {},
   "source": [
    "# 3"
   ]
  },
  {
   "cell_type": "code",
   "execution_count": 10,
   "id": "423ba4cf",
   "metadata": {},
   "outputs": [],
   "source": [
    "def f(array):\n",
    "    return np.array([value for row_matrix in array for value in row_matrix])"
   ]
  },
  {
   "cell_type": "code",
   "execution_count": 11,
   "id": "4e6faafa",
   "metadata": {},
   "outputs": [
    {
     "data": {
      "text/plain": [
       "array([1, 2, 2, 3])"
      ]
     },
     "execution_count": 11,
     "metadata": {},
     "output_type": "execute_result"
    }
   ],
   "source": [
    "f(np.array([[1,2],[2,3]]))"
   ]
  },
  {
   "cell_type": "code",
   "execution_count": 12,
   "id": "6f5c712b",
   "metadata": {},
   "outputs": [
    {
     "data": {
      "text/plain": [
       "array([1, 2, 3, 2, 3, 4, 3, 4, 5])"
      ]
     },
     "execution_count": 12,
     "metadata": {},
     "output_type": "execute_result"
    }
   ],
   "source": [
    "f(np.array([[1,2,3],[2,3,4],[3,4,5]]))"
   ]
  },
  {
   "cell_type": "markdown",
   "id": "46b93195",
   "metadata": {},
   "source": [
    "# 4"
   ]
  },
  {
   "cell_type": "code",
   "execution_count": 13,
   "id": "26315887",
   "metadata": {},
   "outputs": [],
   "source": [
    "#행 기준 : 받는게 누구인지?\n",
    "#열 기준 : 주는게 누구인지?\n",
    "x = np.array([[0.6, 0.3],\n",
    "               [0.4, 0.7]])\n",
    "x0 = np.array([[0, 1.0]]).T"
   ]
  },
  {
   "cell_type": "code",
   "execution_count": 14,
   "id": "eaa9e5c5",
   "metadata": {},
   "outputs": [
    {
     "data": {
      "text/plain": [
       "array([[0.3],\n",
       "       [0.7]])"
      ]
     },
     "execution_count": 14,
     "metadata": {},
     "output_type": "execute_result"
    }
   ],
   "source": [
    "#1개월 후\n",
    "x1 = x.dot(x0)\n",
    "x1"
   ]
  },
  {
   "cell_type": "code",
   "execution_count": 15,
   "id": "bc78bfe0",
   "metadata": {},
   "outputs": [
    {
     "data": {
      "text/plain": [
       "array([[0.39],\n",
       "       [0.61]])"
      ]
     },
     "execution_count": 15,
     "metadata": {},
     "output_type": "execute_result"
    }
   ],
   "source": [
    "#2개월 후\n",
    "x2 = x.dot(x1)\n",
    "x2"
   ]
  },
  {
   "cell_type": "code",
   "execution_count": 16,
   "id": "90a3cf85",
   "metadata": {},
   "outputs": [
    {
     "name": "stdout",
     "output_type": "stream",
     "text": [
      "[[0.39]\n",
      " [0.61]]\n"
     ]
    }
   ],
   "source": [
    "print(x2)"
   ]
  },
  {
   "cell_type": "markdown",
   "id": "3d71a7e9",
   "metadata": {},
   "source": [
    "# 5"
   ]
  },
  {
   "cell_type": "code",
   "execution_count": 17,
   "id": "662924a6",
   "metadata": {},
   "outputs": [],
   "source": [
    "def x(t):\n",
    "    x = np.array([[0.6, 0.3],\n",
    "                   [0.4, 0.7]])\n",
    "    x0 = np.array([[1, 0]]).T\n",
    "    for i in range (t):\n",
    "        x0 = x.dot(x0)\n",
    "    return x0"
   ]
  },
  {
   "cell_type": "code",
   "execution_count": 18,
   "id": "0a11d261",
   "metadata": {},
   "outputs": [
    {
     "data": {
      "text/plain": [
       "array([[0.4285748],\n",
       "       [0.5714252]])"
      ]
     },
     "execution_count": 18,
     "metadata": {},
     "output_type": "execute_result"
    }
   ],
   "source": [
    "x(10)"
   ]
  }
 ],
 "metadata": {
  "kernelspec": {
   "display_name": "Python 3 (ipykernel)",
   "language": "python",
   "name": "python3"
  },
  "language_info": {
   "codemirror_mode": {
    "name": "ipython",
    "version": 3
   },
   "file_extension": ".py",
   "mimetype": "text/x-python",
   "name": "python",
   "nbconvert_exporter": "python",
   "pygments_lexer": "ipython3",
   "version": "3.9.7"
  },
  "toc": {
   "base_numbering": 1,
   "nav_menu": {},
   "number_sections": false,
   "sideBar": true,
   "skip_h1_title": false,
   "title_cell": "Table of Contents",
   "title_sidebar": "Contents",
   "toc_cell": false,
   "toc_position": {},
   "toc_section_display": true,
   "toc_window_display": false
  }
 },
 "nbformat": 4,
 "nbformat_minor": 5
}
