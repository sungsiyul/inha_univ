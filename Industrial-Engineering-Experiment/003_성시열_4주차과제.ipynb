{
 "cells": [
  {
   "cell_type": "markdown",
   "id": "7a072226",
   "metadata": {},
   "source": [
    "# 1"
   ]
  },
  {
   "cell_type": "code",
   "execution_count": 5,
   "id": "adbdc5a5",
   "metadata": {},
   "outputs": [],
   "source": [
    "a1 = \"this is string type\"\n",
    "a2 = \"1. 2. 3. 4. 5. 6. 7.\"\n",
    "a3 = \"one = 1, two = 2, three = 3\""
   ]
  },
  {
   "cell_type": "code",
   "execution_count": 6,
   "id": "dee123b3",
   "metadata": {},
   "outputs": [
    {
     "name": "stdout",
     "output_type": "stream",
     "text": [
      "False\n",
      "False\n",
      "False\n"
     ]
    }
   ],
   "source": [
    "print(a1.isdigit())\n",
    "print(a2.isdigit())\n",
    "print(a3.isdigit())"
   ]
  },
  {
   "cell_type": "code",
   "execution_count": 7,
   "id": "ca7274ca",
   "metadata": {},
   "outputs": [],
   "source": [
    "#문자열 함수들은 실행한다고 원래 값을 바꿔주지 않으므로 새로 저장해줘야함.\n",
    "a1 = a1.upper()\n",
    "a2 = a2.strip(\".\")\n",
    "a3 = a3.replace('=','-')"
   ]
  },
  {
   "cell_type": "code",
   "execution_count": 8,
   "id": "28237a2a",
   "metadata": {},
   "outputs": [
    {
     "name": "stdout",
     "output_type": "stream",
     "text": [
      "THIS IS STRING TYPE\n",
      "1. 2. 3. 4. 5. 6. 7\n",
      "one - 1, two - 2, three - 3\n"
     ]
    }
   ],
   "source": [
    "print(a1)\n",
    "print(a2)\n",
    "print(a3)"
   ]
  },
  {
   "cell_type": "markdown",
   "id": "e13c0dc9",
   "metadata": {},
   "source": [
    "# 2"
   ]
  },
  {
   "cell_type": "code",
   "execution_count": 9,
   "id": "bf269d26",
   "metadata": {
    "scrolled": true
   },
   "outputs": [
    {
     "ename": "TypeError",
     "evalue": "'str' object does not support item assignment",
     "output_type": "error",
     "traceback": [
      "\u001b[1;31m---------------------------------------------------------------------------\u001b[0m",
      "\u001b[1;31mTypeError\u001b[0m                                 Traceback (most recent call last)",
      "\u001b[1;32m~\\AppData\\Local\\Temp/ipykernel_6236/4046094864.py\u001b[0m in \u001b[0;36m<module>\u001b[1;34m\u001b[0m\n\u001b[0;32m      1\u001b[0m \u001b[0ma\u001b[0m \u001b[1;33m=\u001b[0m \u001b[1;34m'Hello My nick name is rednose'\u001b[0m\u001b[1;33m\u001b[0m\u001b[1;33m\u001b[0m\u001b[0m\n\u001b[1;32m----> 2\u001b[1;33m \u001b[0ma\u001b[0m\u001b[1;33m[\u001b[0m\u001b[1;36m22\u001b[0m\u001b[1;33m:\u001b[0m\u001b[1;36m29\u001b[0m\u001b[1;33m]\u001b[0m \u001b[1;33m=\u001b[0m \u001b[1;34m'blacknose'\u001b[0m\u001b[1;33m\u001b[0m\u001b[1;33m\u001b[0m\u001b[0m\n\u001b[0m\u001b[0;32m      3\u001b[0m \u001b[1;31m# a라는 string은 [0] ~ [28]까지이므로 [29]를 지정했을 때 오류가 발생한다.\u001b[0m\u001b[1;33m\u001b[0m\u001b[1;33m\u001b[0m\u001b[0m\n\u001b[0;32m      4\u001b[0m \u001b[1;31m# 또한 대체하려는 값의 길이가 제거하려는 길이와 다르므로 인덱싱을 활용하는 것은 적절하지 않다.\u001b[0m\u001b[1;33m\u001b[0m\u001b[1;33m\u001b[0m\u001b[0m\n",
      "\u001b[1;31mTypeError\u001b[0m: 'str' object does not support item assignment"
     ]
    }
   ],
   "source": [
    "a = 'Hello My nick name is rednose'\n",
    "a[22:29] = 'blacknose'\n",
    "# a라는 string은 [0] ~ [28]까지이므로 [29]를 지정했을 때 오류가 발생한다.\n",
    "# 또한 대체하려는 값의 길이가 제거하려는 길이와 다르므로 인덱싱을 활용하는 것은 적절하지 않다."
   ]
  },
  {
   "cell_type": "code",
   "execution_count": 10,
   "id": "3ff8822f",
   "metadata": {},
   "outputs": [
    {
     "name": "stdout",
     "output_type": "stream",
     "text": [
      "Hello My nick name is blacknose\n"
     ]
    }
   ],
   "source": [
    "a = 'Hello My nick name is rednose'\n",
    "a = a.replace(\"rednose\",\"blacknose\")\n",
    "print(a)"
   ]
  },
  {
   "cell_type": "markdown",
   "id": "d95680e3",
   "metadata": {},
   "source": [
    "# 3"
   ]
  },
  {
   "cell_type": "code",
   "execution_count": 11,
   "id": "d62a76b9",
   "metadata": {},
   "outputs": [
    {
     "name": "stdout",
     "output_type": "stream",
     "text": [
      "가-나-다-라-마-바-사\n"
     ]
    }
   ],
   "source": [
    "han = \"가 나 다 라 마 바 사\"\n",
    "han = han.split()\n",
    "han = \"-\".join(han)\n",
    "print(han)"
   ]
  },
  {
   "cell_type": "markdown",
   "id": "c74cd759",
   "metadata": {},
   "source": [
    "# 4"
   ]
  },
  {
   "cell_type": "code",
   "execution_count": 12,
   "id": "096534e1",
   "metadata": {},
   "outputs": [
    {
     "name": "stdout",
     "output_type": "stream",
     "text": [
      "arms my between you with dark the in dancing I'm\n"
     ]
    }
   ],
   "source": [
    "text = \"I'm dancing in the dark with you between my arms\"\n",
    "text = text.split()\n",
    "text = text[::-1]\n",
    "text = \" \".join(text)\n",
    "print(text)"
   ]
  },
  {
   "cell_type": "markdown",
   "id": "24ed20a4",
   "metadata": {},
   "source": [
    "# 5"
   ]
  },
  {
   "cell_type": "code",
   "execution_count": 13,
   "id": "64aa28da",
   "metadata": {},
   "outputs": [],
   "source": [
    "f = open('산업공학실험 4주차 yesterday.txt', 'r')   #파일 (~~~) 을 읽기전용으로 가져옴\n",
    "\n",
    "yesterday_lyric = ''                  #yesterday_lyric 이라는 변수 생성\n",
    "while 1:                              #반복문 실행\n",
    "    line = f.readline()                  #파일의 라인을 읽어주고 line에 대입\n",
    "    if not line:                         #만약 라인이 아니라면(없다면)\n",
    "        break                            #반복문 실행 중지\n",
    "    yesterday_lyric = yesterday_lyric + line.strip() + '\\n'   #line에 대입된 값에 양쪽 공백을 지우고 줄바꿈을 출력한 뒤 yesterday_lyric에 한 문장씩 쌓아준다.\n",
    "f.close()"
   ]
  },
  {
   "cell_type": "code",
   "execution_count": 14,
   "id": "6a9739d8",
   "metadata": {},
   "outputs": [
    {
     "name": "stdout",
     "output_type": "stream",
     "text": [
      "3\n",
      "6\n",
      "9\n"
     ]
    }
   ],
   "source": [
    "print (yesterday_lyric.count(\"Yesterday\"))\n",
    "print (yesterday_lyric.count(\"yesterday\"))\n",
    "print (yesterday_lyric.count(\"Yesterday\") + yesterday_lyric.count(\"yesterday\"))"
   ]
  },
  {
   "cell_type": "markdown",
   "id": "51ddc59e",
   "metadata": {},
   "source": [
    "# 6"
   ]
  },
  {
   "cell_type": "code",
   "execution_count": 15,
   "id": "fac91281",
   "metadata": {},
   "outputs": [
    {
     "data": {
      "text/plain": [
       "'THIS IS EXAMPLE'"
      ]
     },
     "execution_count": 15,
     "metadata": {},
     "output_type": "execute_result"
    }
   ],
   "source": [
    "def change(str):\n",
    "    str = str.strip(\"+-/*\")\n",
    "    str = str.upper()\n",
    "    return str\n",
    "\n",
    "example = \"+++++---this is example/////**********\"\n",
    "change(example)"
   ]
  },
  {
   "cell_type": "markdown",
   "id": "185312ae",
   "metadata": {},
   "source": [
    "# 7"
   ]
  },
  {
   "cell_type": "code",
   "execution_count": 2,
   "id": "24cf4295",
   "metadata": {},
   "outputs": [
    {
     "name": "stdout",
     "output_type": "stream",
     "text": [
      "숫자를 10개 입력해주세요123\n",
      "숫자를 10개 입력해주세요abcdefghij\n",
      "숫자를 10개 입력해주세요12345abcde\n",
      "숫자를 10개 입력해주세요1234567890\n",
      "12345 - 67890\n"
     ]
    }
   ],
   "source": [
    "while 1:\n",
    "    ten_num = input(\"숫자를 10개 입력해주세요\")\n",
    "    if len(ten_num) == 10 and ten_num.isdigit() == True:\n",
    "        print(ten_num[0:5] + ' - ' + ten_num[5:10])   #슬라이싱 str[start:stop-1:step]\n",
    "        break"
   ]
  },
  {
   "cell_type": "markdown",
   "id": "83427b37",
   "metadata": {},
   "source": [
    "# 8"
   ]
  },
  {
   "cell_type": "code",
   "execution_count": 17,
   "id": "66fe4945",
   "metadata": {},
   "outputs": [
    {
     "name": "stdout",
     "output_type": "stream",
     "text": [
      "빈칸의 개수는 7입니다.\n",
      "알파벳 s 가 문자열에서 등장하는 횟수는 2 회 입니다.\n"
     ]
    }
   ],
   "source": [
    "abc = \" Hello guys! I study Python  \" #앞에 공백 1칸, 뒤 2칸\n",
    "print(\"빈칸의 개수는 %d입니다.\" %abc.count(' '))\n",
    "print(\"알파벳 s 가 문자열에서 등장하는 횟수는 %d 회 입니다.\" %abc.count('s'))"
   ]
  },
  {
   "cell_type": "markdown",
   "id": "dc61d75d",
   "metadata": {},
   "source": [
    "# 9"
   ]
  },
  {
   "cell_type": "code",
   "execution_count": 18,
   "id": "0a20fcfa",
   "metadata": {},
   "outputs": [
    {
     "name": "stdout",
     "output_type": "stream",
     "text": [
      "c:\\dir1\n",
      "ame\n",
      "c:\\dir1\\name\n"
     ]
    }
   ],
   "source": [
    "print(\"c:\\dir1\\name\")\n",
    "print(r\"c:\\dir1\\name\")\n",
    "\n",
    "#r로 선언된 문자열은 (r\"\") \\를 이스케이프 문자로 인식하지 않고 \\그대로 출력한다."
   ]
  },
  {
   "cell_type": "markdown",
   "id": "d7e0833e",
   "metadata": {},
   "source": [
    "# 10"
   ]
  },
  {
   "cell_type": "code",
   "execution_count": 4,
   "id": "2a8e6f91",
   "metadata": {},
   "outputs": [
    {
     "name": "stdout",
     "output_type": "stream",
     "text": [
      "입력된 문자열 : i'm only one call away. i'll be there to save the day. superman got nothing on me.\n",
      "문장의 수 : 3\n",
      "글자의 수 : 66\n"
     ]
    }
   ],
   "source": [
    "def txtchange(text):\n",
    "    sentence_num = text.count('.')\n",
    "    print(\"문장의 수 : %d\" % sentence_num)\n",
    "    not_empty_text = \"\".join(text.split())\n",
    "    print(\"글자의 수 : %d\" % len(not_empty_text))\n",
    "\n",
    "text = input(\"입력된 문자열 : \")\n",
    "txtchange(text)"
   ]
  }
 ],
 "metadata": {
  "kernelspec": {
   "display_name": "Python 3 (ipykernel)",
   "language": "python",
   "name": "python3"
  },
  "language_info": {
   "codemirror_mode": {
    "name": "ipython",
    "version": 3
   },
   "file_extension": ".py",
   "mimetype": "text/x-python",
   "name": "python",
   "nbconvert_exporter": "python",
   "pygments_lexer": "ipython3",
   "version": "3.9.7"
  }
 },
 "nbformat": 4,
 "nbformat_minor": 5
}
