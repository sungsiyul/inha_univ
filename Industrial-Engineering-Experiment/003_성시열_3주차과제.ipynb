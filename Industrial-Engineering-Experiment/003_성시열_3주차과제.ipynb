{
 "cells": [
  {
   "cell_type": "code",
   "execution_count": 2,
   "id": "0c2642ab",
   "metadata": {},
   "outputs": [
    {
     "name": "stdout",
     "output_type": "stream",
     "text": [
      "5\n",
      "5\n",
      "None\n",
      "10\n",
      "10\n"
     ]
    }
   ],
   "source": [
    "#1\n",
    "\n",
    "#입력 parameter가 있고, return 값이 없는 함수\n",
    "def a(x):\n",
    "    print(x)\n",
    "\n",
    "#입력 parameter가 없고, return 값이 있는 함수\n",
    "def b():\n",
    "    x = 10\n",
    "    return x\n",
    "\n",
    "x = 5\n",
    "a(x)             #첫번째 출력 : 5라는 parameter가 a함수로 넘어가서 print(x)실행\n",
    "print(a(x))      #두번째 출력 : print문 내부의 함수가 실행되어 출력\n",
    "                 #세번째 출력 : print문 자체가 실행되었으나 a의 return 값이 없음.\n",
    "b_return = b()   # 출력문이 실행 X\n",
    "print(b_return)  #네번째 출력 : 함수 b의 실행값이 b_return에 저장되고 그 값을 출력\n",
    "print(b())       #다섯번째 출력 : 함수 b가 실행되고 그 return값이 print"
   ]
  },
  {
   "cell_type": "code",
   "execution_count": 4,
   "id": "df76d0bb",
   "metadata": {},
   "outputs": [
    {
     "name": "stdout",
     "output_type": "stream",
     "text": [
      "주문받은 내용은 음식 : pizza, 음료 water 입니다.\n",
      "주문받은 내용은 음식 : hamburger, 음료 coke 입니다.\n"
     ]
    }
   ],
   "source": [
    "#2\n",
    "\n",
    "def order(food, drink=\"water\"):\n",
    "    print(\"주문받은 내용은 음식 : %s, 음료 %s 입니다.\" % (food, drink))\n",
    "\n",
    "order(\"pizza\")\n",
    "order(\"hamburger\", \"coke\")"
   ]
  },
  {
   "cell_type": "code",
   "execution_count": 13,
   "id": "3b83360e",
   "metadata": {},
   "outputs": [
    {
     "name": "stdout",
     "output_type": "stream",
     "text": [
      "몸무게(kg)를 입력하세요 :80\n",
      "키(cm)를 입력하세요 :200\n",
      "표준\n",
      "몸무게(kg)를 입력하세요 :80\n",
      "키(cm)를 입력하세요 :100\n",
      "고도 비만\n",
      "몸무게(kg)를 입력하세요 :80\n",
      "키(cm)를 입력하세요 :170\n",
      "비만\n",
      "몸무게(kg)를 입력하세요 :80\n",
      "키(cm)를 입력하세요 :250\n",
      "마른 체형\n"
     ]
    }
   ],
   "source": [
    "#3\n",
    "\n",
    "def bmi(weight, height):\n",
    "    BMI = weight / (( height / 100 ) ** 2)\n",
    "    \n",
    "    if(BMI < 18.5):\n",
    "        print(\"마른 체형\")\n",
    "    elif(BMI < 25.0):\n",
    "        print(\"표준\")\n",
    "    elif(BMI < 30.0):\n",
    "        print(\"비만\")\n",
    "    else:\n",
    "        print(\"고도 비만\")\n",
    "\n",
    "a = 0\n",
    "while a < 4:\n",
    "    weight_kg = float(input(\"몸무게(kg)를 입력하세요 :\"))\n",
    "    height_cm = float(input(\"키(cm)를 입력하세요 :\"))\n",
    "    bmi(weight_kg, height_cm)\n",
    "    a = a + 1"
   ]
  },
  {
   "cell_type": "code",
   "execution_count": 16,
   "id": "2c727fea",
   "metadata": {},
   "outputs": [
    {
     "name": "stdout",
     "output_type": "stream",
     "text": [
      "1부터 9까지의 숫자를 입력해주세요 :0\n",
      "1부터 9까지의 다시 숫자를 입력해주세요 :-1\n",
      "1부터 9까지의 다시 숫자를 입력해주세요 :100\n",
      "1부터 9까지의 다시 숫자를 입력해주세요 :7\n",
      "7 * 1 = 7\n",
      "7 * 2 = 14\n",
      "7 * 3 = 21\n",
      "7 * 4 = 28\n",
      "7 * 5 = 35\n",
      "7 * 6 = 42\n",
      "7 * 7 = 49\n",
      "7 * 8 = 56\n",
      "7 * 9 = 63\n"
     ]
    }
   ],
   "source": [
    "#4\n",
    "def multi_table():\n",
    "    num = int(input('1부터 9까지의 숫자를 입력해주세요 :'))\n",
    "    while num > 9 or num < 1:\n",
    "        num = int(input('1부터 9까지의 다시 숫자를 입력해주세요 :'))\n",
    "\n",
    "    for i in range(1,10):\n",
    "        result = int(num)*i\n",
    "        print(\"%s * %d = %d\" %(num, i, result))\n",
    "    \n",
    "multi_table()"
   ]
  },
  {
   "cell_type": "code",
   "execution_count": 20,
   "id": "bff4b47b",
   "metadata": {},
   "outputs": [
    {
     "name": "stdout",
     "output_type": "stream",
     "text": [
      "10\n",
      "5\n"
     ]
    }
   ],
   "source": [
    "#5\n",
    "def max3(a,b,c):\n",
    "    print (max(a,b,c))\n",
    "\n",
    "max3(3,7,10)\n",
    "max3(5,5,2)"
   ]
  },
  {
   "cell_type": "code",
   "execution_count": 21,
   "id": "d3c5a568",
   "metadata": {},
   "outputs": [
    {
     "name": "stdout",
     "output_type": "stream",
     "text": [
      "24\n"
     ]
    }
   ],
   "source": [
    "#6\n",
    "def f(*args):\n",
    "    print (args[0] * args[1] * args[2] * args[3])\n",
    "    \n",
    "f(1,2,3,4,5,6,7,8,9,10)"
   ]
  },
  {
   "cell_type": "code",
   "execution_count": 23,
   "id": "2067c7bb",
   "metadata": {},
   "outputs": [
    {
     "name": "stdout",
     "output_type": "stream",
     "text": [
      "3628800\n"
     ]
    }
   ],
   "source": [
    "#7\n",
    "def factorial(a):\n",
    "    if a == 1:\n",
    "        return 1\n",
    "    else:\n",
    "        return a * factorial(a-1)\n",
    "\n",
    "def max_factorial(*args):\n",
    "    max_num = max(args)\n",
    "    print (factorial(max_num))\n",
    "    \n",
    "max_factorial(1, 10, 5, 3, 8)"
   ]
  },
  {
   "cell_type": "code",
   "execution_count": 24,
   "id": "c9557b71",
   "metadata": {},
   "outputs": [
    {
     "name": "stdout",
     "output_type": "stream",
     "text": [
      "parameter is not enough\n",
      "6\n"
     ]
    }
   ],
   "source": [
    "#8\n",
    "def fiveparameter(*args):\n",
    "    if len(args) < 5:\n",
    "        print(\"parameter is not enough\")\n",
    "    else:\n",
    "        print(len(args))\n",
    "\n",
    "fiveparameter(1, 2, 3, 4)\n",
    "fiveparameter(10, 9, 8, 7, 6, 5)"
   ]
  },
  {
   "cell_type": "code",
   "execution_count": 31,
   "id": "7f0eee88",
   "metadata": {},
   "outputs": [
    {
     "name": "stdout",
     "output_type": "stream",
     "text": [
      "[1, 2, 5, 6, 6, 8]\n"
     ]
    }
   ],
   "source": [
    "#9\n",
    "def sorting(a):\n",
    "    a.sort()\n",
    "    print(a)\n",
    "    \n",
    "a = [5, 6, 8, 1, 2, 6]\n",
    "sorting(a)"
   ]
  },
  {
   "cell_type": "code",
   "execution_count": 33,
   "id": "e98d3a1f",
   "metadata": {},
   "outputs": [
    {
     "name": "stdout",
     "output_type": "stream",
     "text": [
      "1\n",
      "0\n",
      "1\n",
      "1\n"
     ]
    }
   ],
   "source": [
    "#10\n",
    "def print_binary(n):\n",
    "    if n < 2:\n",
    "        print(n)\n",
    "    else:\n",
    "        print_binary(n//2)\n",
    "        print(n%2)\n",
    "        \n",
    "n = 11        \n",
    "print_binary(n)"
   ]
  }
 ],
 "metadata": {
  "kernelspec": {
   "display_name": "Python 3 (ipykernel)",
   "language": "python",
   "name": "python3"
  },
  "language_info": {
   "codemirror_mode": {
    "name": "ipython",
    "version": 3
   },
   "file_extension": ".py",
   "mimetype": "text/x-python",
   "name": "python",
   "nbconvert_exporter": "python",
   "pygments_lexer": "ipython3",
   "version": "3.9.7"
  }
 },
 "nbformat": 4,
 "nbformat_minor": 5
}
