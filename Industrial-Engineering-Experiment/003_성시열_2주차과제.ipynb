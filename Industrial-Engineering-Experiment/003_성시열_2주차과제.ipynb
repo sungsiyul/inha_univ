{
 "cells": [
  {
   "cell_type": "code",
   "execution_count": 11,
   "id": "2ffa02e2",
   "metadata": {},
   "outputs": [
    {
     "name": "stdout",
     "output_type": "stream",
     "text": [
      "True 7289.895 7289 7289\n",
      "<class 'str'> <class 'float'> <class 'int'> <class 'str'>\n"
     ]
    }
   ],
   "source": [
    "#1\n",
    "#다음 코드를 실행해보고 예상한 결과와 맞는지 확인\n",
    "a = \"True\"\n",
    "b = 7289.895\n",
    "c = int(b)\n",
    "d = str(c)\n",
    "\n",
    "#True 7289.895 7289 7289\n",
    "#<class 'str'> <class 'float'> <class 'int'> <class 'str'>\n",
    "\n",
    "print(a, b, c, d)\n",
    "print(type(a), type(b), type(c), type(d))"
   ]
  },
  {
   "cell_type": "code",
   "execution_count": 12,
   "id": "37bf1d6a",
   "metadata": {},
   "outputs": [
    {
     "name": "stdout",
     "output_type": "stream",
     "text": [
      "12180626성시열\n"
     ]
    }
   ],
   "source": [
    "#2\n",
    "# 변수 number에 자기 학번을 정수형(interger)으로 선언\n",
    "# 변수 name에 자기 이름을 문자형(string)으로 선언\n",
    "# name과 number를 형변환을 통해서 (number + name)을 출력(print 함수 이용)\n",
    "\n",
    "number = 12180626\n",
    "name = \"성시열\"\n",
    "number = str(number)\n",
    "print(number + name)"
   ]
  },
  {
   "cell_type": "code",
   "execution_count": 13,
   "id": "2285e50a",
   "metadata": {},
   "outputs": [
    {
     "name": "stdout",
     "output_type": "stream",
     "text": [
      "85.25\n",
      "<class 'float'>\n"
     ]
    }
   ],
   "source": [
    "#3\n",
    "# kate, tom, emma, sophia의 시험 점수는 각각 100점, 81점, 93점, 67점 이다.\n",
    "# 각 학생의 이름을 변수로 선언하고, 시험 점수를 정수형으로 입력\n",
    "# average 라는 변수에 4명의 학생의 시험 평균 점수의 값을 입력\n",
    "# average의 값과 average의 데이터 타입을 출력\n",
    "\n",
    "kate = 100\n",
    "tom = 81\n",
    "emma = 93\n",
    "sophia = 67\n",
    "\n",
    "average = (kate + tom + emma + sophia) / 4\n",
    "print(average)\n",
    "print(type(average))"
   ]
  },
  {
   "cell_type": "code",
   "execution_count": 14,
   "id": "fca668f6",
   "metadata": {},
   "outputs": [
    {
     "name": "stdout",
     "output_type": "stream",
     "text": [
      "92.66666666666667\n"
     ]
    }
   ],
   "source": [
    "#4\n",
    "a_k = 100\n",
    "a_m = 72\n",
    "a_e = 77\n",
    "b_k = 94\n",
    "b_m = 64\n",
    "b_e = 58\n",
    "c_k = 84\n",
    "c_m = 97\n",
    "c_e = 67\n",
    "k_ever = (a_k + b_k + c_k) / 3\n",
    "m_ever = (a_m + b_m + c_m) / 3\n",
    "e_ever = (a_e + b_e + c_e) / 3\n",
    "a_ever = (a_k + a_m + a_e) / 3\n",
    "b_ever = (b_k + b_m + b_e) / 3\n",
    "c_ever = (c_k + c_m + c_e) / 3\n",
    "\n",
    "\n",
    "print(max(k_ever, m_ever, e_ever))"
   ]
  },
  {
   "cell_type": "code",
   "execution_count": 15,
   "id": "633cb9b9",
   "metadata": {},
   "outputs": [
    {
     "name": "stdout",
     "output_type": "stream",
     "text": [
      "2.6 2 3\n",
      "13\n"
     ]
    }
   ],
   "source": [
    "#5\n",
    "# ''/’ 연산자는 나누기, ‘//’ 연산자는 몫, ‘%’ 연산자는\n",
    "# 나머지를 나타내는 연산자이다. a = 13, b = 5 일 때, a / b,\n",
    "# a // b, a % b 를 출력하라.\n",
    "\n",
    "a = 13\n",
    "b = 5\n",
    "print(a/b, a//b, a%b)\n",
    "\n",
    "# a 를 (b, a // b(몫), a % b(나머지)) 세 가지를 이용해서\n",
    "# 나타내고, a를 출력하라.\n",
    "\n",
    "a = b * (a//b) + (a%b)\n",
    "print(a)"
   ]
  },
  {
   "cell_type": "code",
   "execution_count": 16,
   "id": "2ebd57fb",
   "metadata": {},
   "outputs": [
    {
     "name": "stdout",
     "output_type": "stream",
     "text": [
      "23920000\n"
     ]
    }
   ],
   "source": [
    "#6\n",
    "daum_price = 89000\n",
    "naver_price = 751000\n",
    "total_price = (daum_price * 100) + (naver_price * 20)\n",
    "print(total_price)"
   ]
  },
  {
   "cell_type": "code",
   "execution_count": 17,
   "id": "f63c8cac",
   "metadata": {},
   "outputs": [
    {
     "name": "stdout",
     "output_type": "stream",
     "text": [
      "1947000.0\n"
     ]
    }
   ],
   "source": [
    "#7\n",
    "new_daum_price = daum_price - (daum_price * 0.05)\n",
    "new_naver_price = naver_price - (naver_price * 0.1)\n",
    "new_total_price = (new_daum_price * 100) + (new_naver_price * 20)\n",
    "loss = total_price - new_total_price\n",
    "print(loss)"
   ]
  },
  {
   "cell_type": "code",
   "execution_count": 18,
   "id": "9e107805",
   "metadata": {},
   "outputs": [
    {
     "name": "stdout",
     "output_type": "stream",
     "text": [
      "we have 24 tomatos\n",
      "apple + tomato is 37\n",
      "my name is Bill . nice to meet you\n"
     ]
    }
   ],
   "source": [
    "#8\n",
    "apple = 13\n",
    "tomato = 24\n",
    "name1 = \"Bill\"\n",
    "total_fruits = apple + tomato\n",
    "print(\"we have %d tomatos\" %tomato)\n",
    "print(\"apple + tomato is %d\" %total_fruits)\n",
    "print(\"my name is %s . nice to meet you\" %name1)"
   ]
  },
  {
   "cell_type": "code",
   "execution_count": 19,
   "id": "4caeee6a",
   "metadata": {},
   "outputs": [
    {
     "name": "stdout",
     "output_type": "stream",
     "text": [
      "10.0\n"
     ]
    }
   ],
   "source": [
    "#9\n",
    "F = 50\n",
    "C = (F - 32) / 1.8\n",
    "print(C)"
   ]
  },
  {
   "cell_type": "code",
   "execution_count": 20,
   "id": "0543476c",
   "metadata": {},
   "outputs": [
    {
     "name": "stdout",
     "output_type": "stream",
     "text": [
      "1505613469136 1505613469136\n",
      "1505693217040 1505693217072\n"
     ]
    }
   ],
   "source": [
    "#10\n",
    "x1 = 100\n",
    "y1 = 100\n",
    "print(id(x1),id(y1))\n",
    "\n",
    "x2 = 300\n",
    "y2 = 300\n",
    "print(id(x2),id(y2))\n",
    "\n",
    "# 정수값은 메모리를 효율적으로 사용하기 위해\n",
    "# 256이하의 같은 값이면 할당된 하나의 주소를 사용함.\n",
    "# 그보다 큰 값은 변수한 하나의 주소가 할당된다."
   ]
  },
  {
   "cell_type": "code",
   "execution_count": 21,
   "id": "55fe4ec7",
   "metadata": {},
   "outputs": [
    {
     "name": "stdout",
     "output_type": "stream",
     "text": [
      "학과를 입력하세요 :산업경영공학\n",
      "학번을 입력하세요 :12180626\n",
      "이름을 입력하세요 :성시열\n",
      "학과 : 산업경영공학 학번 : 12180626 이름 : 성시열\n"
     ]
    }
   ],
   "source": [
    "#11\n",
    "major = input(\"학과를 입력하세요 :\")\n",
    "stu_num = input(\"학번을 입력하세요 :\")\n",
    "name = input(\"이름을 입력하세요 :\")\n",
    "print(\"학과 : %s 학번 : %s 이름 : %s\" %(major, stu_num, name))"
   ]
  },
  {
   "cell_type": "code",
   "execution_count": 22,
   "id": "6b346ef8",
   "metadata": {},
   "outputs": [
    {
     "name": "stdout",
     "output_type": "stream",
     "text": [
      "Name : Tom, Age : 23, Department : finance\n"
     ]
    }
   ],
   "source": [
    "#12\n",
    "name = \"Tom\"\n",
    "age = 23\n",
    "department = \"finance\"\n",
    "print(\"Name : %s, Age : %d, Department : %s\" %(name, age, department))"
   ]
  },
  {
   "cell_type": "code",
   "execution_count": 23,
   "id": "eea1f40c",
   "metadata": {},
   "outputs": [
    {
     "name": "stdout",
     "output_type": "stream",
     "text": [
      "찬성의 득표수는 245684 표이고, 반대의 득표수는 152444 표이다.\n",
      "그리고 총 찬성득표비율은 61.70980%이다. \n"
     ]
    }
   ],
   "source": [
    "#13\n",
    "agreement = 245684\n",
    "opposite = 152444\n",
    "agree_percent = (agreement / (agreement + opposite) ) * 100\n",
    "print(\"\"\"찬성의 득표수는 {1:6d} 표이고, 반대의 득표수는 {2:6d} 표이다.\n",
    "그리고 총 찬성득표비율은 {0:.5f}%이다. \"\"\".format(agree_percent, agreement, opposite))"
   ]
  },
  {
   "cell_type": "code",
   "execution_count": 9,
   "id": "a7d47625",
   "metadata": {},
   "outputs": [
    {
     "name": "stdout",
     "output_type": "stream",
     "text": [
      "4 9\n",
      "10\n"
     ]
    }
   ],
   "source": [
    "#14\n",
    "num_list = [1,2,3,4,5,6,7,8,9,10]\n",
    "print(num_list[3], num_list[8])\n",
    "print(len(num_list))"
   ]
  },
  {
   "cell_type": "code",
   "execution_count": 10,
   "id": "01a89a03",
   "metadata": {},
   "outputs": [
    {
     "name": "stdout",
     "output_type": "stream",
     "text": [
      "[10, 9, 8, 7, 6, 5, 4, 3, 2, 1]\n",
      "[10, 8, 6, 4]\n"
     ]
    }
   ],
   "source": [
    "#15\n",
    "new_list = num_list[::-1]\n",
    "print(new_list)\n",
    "print(new_list[0:7:2])"
   ]
  },
  {
   "cell_type": "code",
   "execution_count": 7,
   "id": "98a2b996",
   "metadata": {},
   "outputs": [
    {
     "name": "stdout",
     "output_type": "stream",
     "text": [
      "['지호', '도윤', '하준', '서준', '준우', '민준', '하윤', '서윤', '수아']\n"
     ]
    }
   ],
   "source": [
    "#16\n",
    "name1 = ['도윤', '하준', '서준', '시우', '민준']\n",
    "name2 = ['하윤', '서윤', '서연', '하은', '지유']\n",
    "new_name = name1 + name2\n",
    "new_name[3] = '준우'\n",
    "new_name[7] = '수아'\n",
    "new_name.insert(0, '지호')\n",
    "new_name.remove('하은')\n",
    "new_name.remove('지유')\n",
    "print(new_name)"
   ]
  },
  {
   "cell_type": "code",
   "execution_count": 6,
   "id": "6c1c145e",
   "metadata": {},
   "outputs": [
    {
     "name": "stdout",
     "output_type": "stream",
     "text": [
      "55 78\n"
     ]
    }
   ],
   "source": [
    "#17\n",
    "Brooke = [67, 50, 94]\n",
    "Lydia = [88, 48, 55]\n",
    "Stella = [69, 66, 76]\n",
    "Lucy = [95, 78, 68]\n",
    "score = [Brooke, Lydia, Stella, Lucy]\n",
    "print(score[1][2], score[3][1])"
   ]
  },
  {
   "cell_type": "code",
   "execution_count": 24,
   "id": "1b4200d4",
   "metadata": {},
   "outputs": [
    {
     "name": "stdout",
     "output_type": "stream",
     "text": [
      "1부터 10까지의 숫자를 입력해주세요 :0\n",
      "1부터 10까지의 숫자를 입력해주세요 :11\n",
      "1부터 10까지의 숫자를 입력해주세요 :5\n",
      "이 수는 홀수입니다.\n",
      "이 수는 5입니다.\n"
     ]
    }
   ],
   "source": [
    "num = int(input('1부터 10까지의 숫자를 입력해주세요 :'))\n",
    "while num > 10 or num < 1:\n",
    "    num = int(input('1부터 10까지의 숫자를 입력해주세요 :'))\n",
    "\n",
    "if num%2==0:\n",
    "    print(\"이 수는 짝수입니다.\")\n",
    "    if num < 5:\n",
    "        print(\"이 수는 5보다 작은 수 입니다.\")\n",
    "    elif num == 5:\n",
    "        print(\"이 수는 5입니다.\")\n",
    "    else:\n",
    "        print(\"이 수는 5보다 큰 수 입니다.\")\n",
    "else:\n",
    "    print(\"이 수는 홀수입니다.\")\n",
    "    if num < 5:\n",
    "        print(\"이 수는 5보다 작은 수 입니다.\")\n",
    "    elif num == 5:\n",
    "        print(\"이 수는 5입니다.\")\n",
    "    else:\n",
    "        print(\"이 수는 5보다 큰 수 입니다.\")"
   ]
  },
  {
   "cell_type": "code",
   "execution_count": 4,
   "id": "93935c4b",
   "metadata": {},
   "outputs": [
    {
     "name": "stdout",
     "output_type": "stream",
     "text": [
      "1부터 9까지의 숫자를 입력해주세요 :0\n",
      "1부터 9까지의 다시 숫자를 입력해주세요 :10\n",
      "1부터 9까지의 다시 숫자를 입력해주세요 :5\n",
      "5 * 1 = 5\n",
      "5 * 2 = 10\n",
      "5 * 3 = 15\n",
      "5 * 4 = 20\n",
      "5 * 5 = 25\n",
      "5 * 6 = 30\n",
      "5 * 7 = 35\n",
      "5 * 8 = 40\n",
      "5 * 9 = 45\n"
     ]
    }
   ],
   "source": [
    "#19\n",
    "num = int(input('1부터 9까지의 숫자를 입력해주세요 :'))\n",
    "while num > 9 or num < 1:\n",
    "    num = int(input('1부터 9까지의 다시 숫자를 입력해주세요 :'))\n",
    "\n",
    "for i in range(1,10):\n",
    "    result = int(num)*i\n",
    "    print(\"%s * %d = %d\" %(num, i, result))"
   ]
  },
  {
   "cell_type": "code",
   "execution_count": 5,
   "id": "59795361",
   "metadata": {},
   "outputs": [
    {
     "name": "stdout",
     "output_type": "stream",
     "text": [
      "몇 개를 출력 할까요 :10\n",
      "[1, 1, 2, 3, 5, 8, 13, 21, 34, 55]\n"
     ]
    }
   ],
   "source": [
    "#20\n",
    "num = int(input(\"몇 개를 출력 할까요 :\"))\n",
    "list_a = [1,1]\n",
    "\n",
    "for i in range(2,num):                        #i는 더해서 구해지는 값의 index\n",
    "    list_a.append(list_a[i-2]+list_a[i-1])    #i=2일 때 a[2-2=0]+a[2-1=1]=a[2]\n",
    "\n",
    "print(list_a)"
   ]
  }
 ],
 "metadata": {
  "kernelspec": {
   "display_name": "Python 3 (ipykernel)",
   "language": "python",
   "name": "python3"
  },
  "language_info": {
   "codemirror_mode": {
    "name": "ipython",
    "version": 3
   },
   "file_extension": ".py",
   "mimetype": "text/x-python",
   "name": "python",
   "nbconvert_exporter": "python",
   "pygments_lexer": "ipython3",
   "version": "3.9.7"
  }
 },
 "nbformat": 4,
 "nbformat_minor": 5
}
