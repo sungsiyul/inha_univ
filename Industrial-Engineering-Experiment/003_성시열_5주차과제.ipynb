{
 "cells": [
  {
   "cell_type": "markdown",
   "id": "27563556",
   "metadata": {},
   "source": [
    "# 1"
   ]
  },
  {
   "cell_type": "code",
   "execution_count": 6,
   "id": "da1edae5",
   "metadata": {},
   "outputs": [],
   "source": [
    "my_list = [1,2,3,4,5,6,7,8,9]\n",
    "my_dict = {0:1, 1:2, 2:3, 3:4, 4:5, 5:6, 6:7, 7:8, 8:9}"
   ]
  },
  {
   "cell_type": "code",
   "execution_count": 7,
   "id": "e06f0454",
   "metadata": {},
   "outputs": [
    {
     "name": "stdout",
     "output_type": "stream",
     "text": [
      "3 3\n",
      "6 6\n"
     ]
    }
   ],
   "source": [
    "print(my_list[2], my_dict[2])\n",
    "print(my_list[5], my_dict[5])"
   ]
  },
  {
   "cell_type": "markdown",
   "id": "d83184fe",
   "metadata": {},
   "source": [
    "# 2"
   ]
  },
  {
   "cell_type": "code",
   "execution_count": 8,
   "id": "eb817169",
   "metadata": {},
   "outputs": [],
   "source": [
    "my_dict2=dict(enumerate(my_dict,1))"
   ]
  },
  {
   "cell_type": "code",
   "execution_count": 9,
   "id": "09ed1ed5",
   "metadata": {},
   "outputs": [
    {
     "name": "stdout",
     "output_type": "stream",
     "text": [
      "{1: 0, 2: 1, 3: 2, 4: 3, 5: 4, 6: 5, 7: 6, 8: 7, 9: 8}\n"
     ]
    }
   ],
   "source": [
    "print(my_dict2)"
   ]
  },
  {
   "cell_type": "markdown",
   "id": "1c99339e",
   "metadata": {},
   "source": [
    "# 3"
   ]
  },
  {
   "cell_type": "code",
   "execution_count": 10,
   "id": "4d99b441",
   "metadata": {},
   "outputs": [],
   "source": [
    "a = 'The quick brown fox jumps over the lazy dog'\n",
    "b = 'The dog jumps into the deep black hole'"
   ]
  },
  {
   "cell_type": "code",
   "execution_count": 11,
   "id": "4b822583",
   "metadata": {},
   "outputs": [],
   "source": [
    "set_a = set(a.split())\n",
    "set_b = set(b.split())"
   ]
  },
  {
   "cell_type": "code",
   "execution_count": 12,
   "id": "c21132db",
   "metadata": {},
   "outputs": [],
   "source": [
    "result = set_a&set_b"
   ]
  },
  {
   "cell_type": "code",
   "execution_count": 13,
   "id": "cd88311b",
   "metadata": {},
   "outputs": [
    {
     "name": "stdout",
     "output_type": "stream",
     "text": [
      "{'The', 'dog', 'the', 'jumps'}\n"
     ]
    }
   ],
   "source": [
    "print(result)"
   ]
  },
  {
   "cell_type": "markdown",
   "id": "309f6983",
   "metadata": {},
   "source": [
    "# 4"
   ]
  },
  {
   "cell_type": "code",
   "execution_count": 14,
   "id": "ca090591",
   "metadata": {},
   "outputs": [],
   "source": [
    "def gpa(X,w):\n",
    "    gpa = sum(list((map(lambda x, y:x*y,X,w)))) / sum(w)\n",
    "    return gpa"
   ]
  },
  {
   "cell_type": "code",
   "execution_count": 15,
   "id": "b1d07b77",
   "metadata": {},
   "outputs": [
    {
     "data": {
      "text/plain": [
       "3.3421052631578947"
      ]
     },
     "execution_count": 15,
     "metadata": {},
     "output_type": "execute_result"
    }
   ],
   "source": [
    "x1 = [3.5, 4.5, 4.0, 3.0, 2.5, 2.5, 3.5]\n",
    "w1 = [3,3,2,2,3,3,3]\n",
    "gpa(x1,w1)"
   ]
  },
  {
   "cell_type": "code",
   "execution_count": 16,
   "id": "23abc19d",
   "metadata": {},
   "outputs": [
    {
     "data": {
      "text/plain": [
       "3.3684210526315788"
      ]
     },
     "execution_count": 16,
     "metadata": {},
     "output_type": "execute_result"
    }
   ],
   "source": [
    "x2 = [2.5, 0, 4.5, 4.0, 4.5, 4.5, 3.0]\n",
    "w = [1,3,3,3,3,3,3]\n",
    "gpa(x2,w)"
   ]
  },
  {
   "cell_type": "markdown",
   "id": "d58915a3",
   "metadata": {},
   "source": [
    "# 5"
   ]
  },
  {
   "cell_type": "code",
   "execution_count": 17,
   "id": "f68de78c",
   "metadata": {},
   "outputs": [],
   "source": [
    "def var(X):\n",
    "    mean = [(i - (sum(X) / len(X)))**2 for i in X]\n",
    "    v = sum(mean)/(len(X)-1)\n",
    "    return v"
   ]
  },
  {
   "cell_type": "code",
   "execution_count": 18,
   "id": "df1fc1b7",
   "metadata": {},
   "outputs": [
    {
     "data": {
      "text/plain": [
       "0.5595238095238094"
      ]
     },
     "execution_count": 18,
     "metadata": {},
     "output_type": "execute_result"
    }
   ],
   "source": [
    "x1 = [3.5, 4.5, 4.0, 3.0, 2.5, 2.5, 3.5]\n",
    "var(x1)"
   ]
  },
  {
   "cell_type": "code",
   "execution_count": 19,
   "id": "f097bf7f",
   "metadata": {},
   "outputs": [
    {
     "data": {
      "text/plain": [
       "2.7380952380952377"
      ]
     },
     "execution_count": 19,
     "metadata": {},
     "output_type": "execute_result"
    }
   ],
   "source": [
    "x2 = [2.5, 0, 4.5, 4.0, 4.5, 4.5, 3.0]\n",
    "var(x2)"
   ]
  },
  {
   "cell_type": "markdown",
   "id": "a1381c10",
   "metadata": {},
   "source": [
    "# 6"
   ]
  },
  {
   "cell_type": "code",
   "execution_count": 20,
   "id": "a6472349",
   "metadata": {},
   "outputs": [],
   "source": [
    "def har(X):\n",
    "    h = (len(X)/sum([1/i for i in X]))\n",
    "    return h"
   ]
  },
  {
   "cell_type": "code",
   "execution_count": 21,
   "id": "7fdfdd62",
   "metadata": {},
   "outputs": [
    {
     "data": {
      "text/plain": [
       "3.215457528253737"
      ]
     },
     "execution_count": 21,
     "metadata": {},
     "output_type": "execute_result"
    }
   ],
   "source": [
    "x1 = [3.5, 4.5, 4.0, 3.0, 2.5, 2.5, 3.5]\n",
    "har(x1)"
   ]
  },
  {
   "cell_type": "code",
   "execution_count": 22,
   "id": "c8020c85",
   "metadata": {},
   "outputs": [
    {
     "data": {
      "text/plain": [
       "1.917808219178082"
      ]
     },
     "execution_count": 22,
     "metadata": {},
     "output_type": "execute_result"
    }
   ],
   "source": [
    "x2 = [2.5, 0.5, 4.5, 4.0, 4.5, 4.5, 3.0]\n",
    "har(x2)"
   ]
  },
  {
   "cell_type": "markdown",
   "id": "63becf02",
   "metadata": {},
   "source": [
    "# 7"
   ]
  },
  {
   "cell_type": "code",
   "execution_count": 23,
   "id": "7a72fe55",
   "metadata": {},
   "outputs": [
    {
     "name": "stdout",
     "output_type": "stream",
     "text": [
      "[0, 1, 3, 10]\n",
      "(0, 1, 3, 10)\n",
      "{0: 0, 1: 1, 2: 3, 3: 10}\n"
     ]
    }
   ],
   "source": [
    "list_four_element = [0, 1, 3, 10]\n",
    "tup_four_element = (0, 1, 3, 10)\n",
    "dic_four_element = {0:0, 1:1, 2:3, 3:10}\n",
    "\n",
    "print(list_four_element)\n",
    "print(tup_four_element)\n",
    "print(dic_four_element)"
   ]
  },
  {
   "cell_type": "markdown",
   "id": "112ab2c2",
   "metadata": {},
   "source": [
    "# 8"
   ]
  },
  {
   "cell_type": "code",
   "execution_count": 24,
   "id": "3d3de56a",
   "metadata": {},
   "outputs": [],
   "source": [
    "from collections import deque"
   ]
  },
  {
   "cell_type": "code",
   "execution_count": 25,
   "id": "fa4755e2",
   "metadata": {},
   "outputs": [],
   "source": [
    "A = deque()\n",
    "for i in range(1, 11):\n",
    "    A.append(i)\n",
    "reversed_A = deque(reversed(A))\n",
    "A.pop()\n",
    "B = A + reversed_A"
   ]
  },
  {
   "cell_type": "code",
   "execution_count": 26,
   "id": "63c3bd27",
   "metadata": {},
   "outputs": [
    {
     "name": "stdout",
     "output_type": "stream",
     "text": [
      "deque([1, 2, 3, 4, 5, 6, 7, 8, 9, 10, 9, 8, 7, 6, 5, 4, 3, 2, 1])\n"
     ]
    }
   ],
   "source": [
    "print(B)"
   ]
  },
  {
   "cell_type": "markdown",
   "id": "51a17ab3",
   "metadata": {},
   "source": [
    "# 9"
   ]
  },
  {
   "cell_type": "code",
   "execution_count": 27,
   "id": "2ba09500",
   "metadata": {},
   "outputs": [],
   "source": [
    "example_text = 'A Counter is a dict subclass for counting hashable objects. It is an unordered collection where elements are stored as dictionary keys and their counts are stored as dictionary values. Counts are allowed to be any integer value including zero or negative counts. The Counter class is similar to bags or multisets in other languages.'"
   ]
  },
  {
   "cell_type": "code",
   "execution_count": 28,
   "id": "aa1cc819",
   "metadata": {},
   "outputs": [],
   "source": [
    "from collections import Counter\n",
    "result = Counter(example_text.lower().split())['are']"
   ]
  },
  {
   "cell_type": "code",
   "execution_count": 29,
   "id": "7d356bd7",
   "metadata": {},
   "outputs": [
    {
     "name": "stdout",
     "output_type": "stream",
     "text": [
      "3\n"
     ]
    }
   ],
   "source": [
    "print(result)"
   ]
  },
  {
   "cell_type": "markdown",
   "id": "7eaa3d1e",
   "metadata": {},
   "source": [
    "# 10"
   ]
  },
  {
   "cell_type": "code",
   "execution_count": 30,
   "id": "9af6d6aa",
   "metadata": {},
   "outputs": [],
   "source": [
    "#def function(x,y,z):\n",
    "#    return (x*z+y*z)/z"
   ]
  },
  {
   "cell_type": "code",
   "execution_count": 31,
   "id": "3cd6c949",
   "metadata": {},
   "outputs": [],
   "source": [
    "f = lambda x,y,z:(x*z+y*z)/z"
   ]
  },
  {
   "cell_type": "code",
   "execution_count": 32,
   "id": "477b49b8",
   "metadata": {},
   "outputs": [
    {
     "data": {
      "text/plain": [
       "3.0"
      ]
     },
     "execution_count": 32,
     "metadata": {},
     "output_type": "execute_result"
    }
   ],
   "source": [
    "f(1,2,3)"
   ]
  },
  {
   "cell_type": "markdown",
   "id": "a0779dde",
   "metadata": {},
   "source": [
    "# 11"
   ]
  },
  {
   "cell_type": "code",
   "execution_count": 33,
   "id": "bade5fbb",
   "metadata": {},
   "outputs": [],
   "source": [
    "def function(x,y,z):\n",
    "    try:\n",
    "        print((x*z+y*z)/z)\n",
    "    except ZeroDivisionError:\n",
    "        print(\"z는 0이 될 수 없습니다.\")"
   ]
  },
  {
   "cell_type": "code",
   "execution_count": 34,
   "id": "3f480ac9",
   "metadata": {},
   "outputs": [
    {
     "name": "stdout",
     "output_type": "stream",
     "text": [
      "z는 0이 될 수 없습니다.\n"
     ]
    }
   ],
   "source": [
    "function(3,7,0)"
   ]
  }
 ],
 "metadata": {
  "kernelspec": {
   "display_name": "Python 3 (ipykernel)",
   "language": "python",
   "name": "python3"
  },
  "language_info": {
   "codemirror_mode": {
    "name": "ipython",
    "version": 3
   },
   "file_extension": ".py",
   "mimetype": "text/x-python",
   "name": "python",
   "nbconvert_exporter": "python",
   "pygments_lexer": "ipython3",
   "version": "3.9.7"
  },
  "toc": {
   "base_numbering": 1,
   "nav_menu": {},
   "number_sections": false,
   "sideBar": true,
   "skip_h1_title": false,
   "title_cell": "Table of Contents",
   "title_sidebar": "Contents",
   "toc_cell": false,
   "toc_position": {},
   "toc_section_display": true,
   "toc_window_display": true
  }
 },
 "nbformat": 4,
 "nbformat_minor": 5
}
